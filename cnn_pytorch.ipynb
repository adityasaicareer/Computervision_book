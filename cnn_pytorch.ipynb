{
 "cells": [
  {
   "cell_type": "code",
   "execution_count": 61,
   "id": "c354f261-f191-4245-aec0-2c628fa901fb",
   "metadata": {},
   "outputs": [],
   "source": [
    "import torch\n",
    "import torchvision\n",
    "from torchvision import datasets,transforms\n",
    "from torchvision.transforms import ToTensor\n",
    "from torch import nn"
   ]
  },
  {
   "cell_type": "code",
   "execution_count": 62,
   "id": "e1dd79d6-728d-4c24-930c-a5ad0d28461f",
   "metadata": {},
   "outputs": [
    {
     "name": "stdout",
     "output_type": "stream",
     "text": [
      "2.4.1\n"
     ]
    }
   ],
   "source": [
    "print(torch.__version__)"
   ]
  },
  {
   "cell_type": "code",
   "execution_count": 63,
   "id": "674fdd95-ee71-4138-9c9a-bcacc017fcbf",
   "metadata": {},
   "outputs": [],
   "source": [
    "train_data=datasets.FashionMNIST(root='data',\n",
    "                           train=True,\n",
    "                           download=True,\n",
    "                           transform=ToTensor(),\n",
    "                           target_transform=None)\n",
    "test_data=datasets.FashionMNIST(root='data',\n",
    "                           train=False,\n",
    "                           download=True,\n",
    "                           transform=ToTensor(),\n",
    "                           target_transform=None)"
   ]
  },
  {
   "cell_type": "code",
   "execution_count": 64,
   "id": "b9932281-23ab-4d2b-bcba-1be0326cd152",
   "metadata": {},
   "outputs": [],
   "source": [
    "from torch.utils.data import DataLoader"
   ]
  },
  {
   "cell_type": "code",
   "execution_count": 65,
   "id": "23092476-3469-4fc4-816b-325ec3591e6f",
   "metadata": {},
   "outputs": [],
   "source": [
    "Train=DataLoader(dataset=train_data,\n",
    "                 batch_size=32)\n",
    "Test=DataLoader(dataset=test_data,\n",
    "                batch_size=32)\n"
   ]
  },
  {
   "cell_type": "code",
   "execution_count": 66,
   "id": "7ff42915-c8fc-4ee2-9e77-e7b552b65e36",
   "metadata": {},
   "outputs": [],
   "source": [
    "model=nn.Sequential(\n",
    "\n",
    "                        nn.Conv2d(in_channels=1,out_channels=10,\n",
    "                                 kernel_size=2,\n",
    "                                 padding=1,\n",
    "                                 stride=1),\n",
    "                        nn.ReLU(),\n",
    "                        nn.Conv2d(in_channels=10,out_channels=10,\n",
    "                                 kernel_size=2,\n",
    "                                 padding=1,\n",
    "                                 stride=1),\n",
    "                        nn.ReLU(),\n",
    "                        nn.MaxPool2d(kernel_size=2),\n",
    "                        nn.Conv2d(in_channels=10,out_channels=10,\n",
    "                                 kernel_size=2,\n",
    "                                 padding=1,\n",
    "                                 stride=1),\n",
    "                        nn.ReLU(),\n",
    "                        nn.Conv2d(in_channels=10,out_channels=10,\n",
    "                                 kernel_size=2,\n",
    "                                 padding=1,\n",
    "                                 stride=1),\n",
    "                        nn.ReLU(),\n",
    "                        nn.MaxPool2d(kernel_size=2),\n",
    "\n",
    "                        nn.Flatten(),\n",
    "                        nn.Linear(in_features=10*8*8,out_features=10)\n",
    "                        \n",
    ").to('mps')"
   ]
  },
  {
   "cell_type": "code",
   "execution_count": 67,
   "id": "e31c9557-6a38-4739-ae02-e9a8ddfc6345",
   "metadata": {},
   "outputs": [
    {
     "data": {
      "text/plain": [
       "Sequential(\n",
       "  (0): Conv2d(1, 10, kernel_size=(2, 2), stride=(1, 1), padding=(1, 1))\n",
       "  (1): ReLU()\n",
       "  (2): Conv2d(10, 10, kernel_size=(2, 2), stride=(1, 1), padding=(1, 1))\n",
       "  (3): ReLU()\n",
       "  (4): MaxPool2d(kernel_size=2, stride=2, padding=0, dilation=1, ceil_mode=False)\n",
       "  (5): Conv2d(10, 10, kernel_size=(2, 2), stride=(1, 1), padding=(1, 1))\n",
       "  (6): ReLU()\n",
       "  (7): Conv2d(10, 10, kernel_size=(2, 2), stride=(1, 1), padding=(1, 1))\n",
       "  (8): ReLU()\n",
       "  (9): MaxPool2d(kernel_size=2, stride=2, padding=0, dilation=1, ceil_mode=False)\n",
       "  (10): Flatten(start_dim=1, end_dim=-1)\n",
       "  (11): Linear(in_features=640, out_features=10, bias=True)\n",
       ")"
      ]
     },
     "execution_count": 67,
     "metadata": {},
     "output_type": "execute_result"
    }
   ],
   "source": [
    "model"
   ]
  },
  {
   "cell_type": "code",
   "execution_count": 80,
   "id": "e7f427f0-5404-46af-b508-8248ab79ad3b",
   "metadata": {},
   "outputs": [
    {
     "data": {
      "application/vnd.jupyter.widget-view+json": {
       "model_id": "d6d621d378d64a5bac25308c3dce858f",
       "version_major": 2,
       "version_minor": 0
      },
      "text/plain": [
       "  0%|          | 0/10 [00:00<?, ?it/s]"
      ]
     },
     "metadata": {},
     "output_type": "display_data"
    },
    {
     "name": "stdout",
     "output_type": "stream",
     "text": [
      "579.2503596022725\n",
      "571.9585666432977\n",
      "565.381821282208\n",
      "559.2707656957209\n",
      "552.7226062640548\n",
      "546.4476684182882\n",
      "540.0188141986728\n",
      "533.7600798942149\n",
      "528.1222048848867\n",
      "522.5985091179609\n"
     ]
    }
   ],
   "source": [
    "epoch=10\n",
    "from tqdm.auto import tqdm\n",
    "loss_fn=nn.CrossEntropyLoss()\n",
    "optimizer=torch.optim.SGD(params=model.parameters(),lr=0.01)\n",
    "for i in tqdm(range(epoch)):\n",
    "    model.train()\n",
    "    tloss=0\n",
    "    for batch,(x,y) in enumerate(Train):\n",
    "        x=x.to('mps')\n",
    "        y=y.to('mps')\n",
    "        y_pred=model(x)\n",
    "        loss=loss_fn(y_pred,y)\n",
    "        tloss=tloss+loss.item()\n",
    "        optimizer.zero_grad()\n",
    "        loss.backward()\n",
    "        optimizer.step()\n",
    "    print(tloss)"
   ]
  },
  {
   "cell_type": "code",
   "execution_count": null,
   "id": "1d04b9df-71f1-47fb-9111-ac5ba8b26bf2",
   "metadata": {},
   "outputs": [],
   "source": []
  },
  {
   "cell_type": "code",
   "execution_count": null,
   "id": "348a50ea-551d-49cc-84ce-01f56348de40",
   "metadata": {},
   "outputs": [],
   "source": []
  },
  {
   "cell_type": "code",
   "execution_count": null,
   "id": "a065f8b8-0068-4e24-a292-3723e9cb3e7e",
   "metadata": {},
   "outputs": [],
   "source": []
  }
 ],
 "metadata": {
  "kernelspec": {
   "display_name": "Python 3 (ipykernel)",
   "language": "python",
   "name": "python3"
  },
  "language_info": {
   "codemirror_mode": {
    "name": "ipython",
    "version": 3
   },
   "file_extension": ".py",
   "mimetype": "text/x-python",
   "name": "python",
   "nbconvert_exporter": "python",
   "pygments_lexer": "ipython3",
   "version": "3.12.7"
  }
 },
 "nbformat": 4,
 "nbformat_minor": 5
}
