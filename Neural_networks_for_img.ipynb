{
 "cells": [
  {
   "cell_type": "markdown",
   "id": "0b49d236-fceb-401f-b811-d3fc9f017ebe",
   "metadata": {},
   "source": [
    "## Neural networks have some advantages for image recogozation"
   ]
  },
  {
   "cell_type": "markdown",
   "id": "b16f2861-64f2-41c2-8e5b-3da64bd9a759",
   "metadata": {},
   "source": [
    "* edges and corners used for the segmentaiton and landmarks subset of corners of the code\n",
    "\n",
    "* color-separation\n",
    "\n",
    "* such as read,greena and blue"
   ]
  },
  {
   "cell_type": "markdown",
   "id": "81567ef2-c0ef-46ab-9770-7d708c93d173",
   "metadata": {},
   "source": [
    "### image gradient feature\n",
    "* used as the texture detectors how colors changing at pixel level\n",
    "* "
   ]
  },
  {
   "cell_type": "code",
   "execution_count": 2,
   "id": "062d70d0-41d0-48f7-be0b-f59abe56ed19",
   "metadata": {},
   "outputs": [],
   "source": [
    "## one should know which feature is more suitable for a problem\n",
    "## now converting to the neural netwoks will give us the features learn and more reliable"
   ]
  },
  {
   "cell_type": "code",
   "execution_count": 3,
   "id": "822494c1-494f-4eba-80da-5e71c6ee4b04",
   "metadata": {},
   "outputs": [],
   "source": [
    "## preparign the data for the image classification"
   ]
  },
  {
   "cell_type": "code",
   "execution_count": null,
   "id": "e9e29c99-f653-4fa1-9800-48da4dfa7cd0",
   "metadata": {},
   "outputs": [],
   "source": []
  }
 ],
 "metadata": {
  "kernelspec": {
   "display_name": "Python 3 (ipykernel)",
   "language": "python",
   "name": "python3"
  },
  "language_info": {
   "codemirror_mode": {
    "name": "ipython",
    "version": 3
   },
   "file_extension": ".py",
   "mimetype": "text/x-python",
   "name": "python",
   "nbconvert_exporter": "python",
   "pygments_lexer": "ipython3",
   "version": "3.12.7"
  }
 },
 "nbformat": 4,
 "nbformat_minor": 5
}
