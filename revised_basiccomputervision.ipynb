{
 "cells": [
  {
   "cell_type": "code",
   "execution_count": 16,
   "id": "6794ceb4-ec17-40ce-8b34-d09e9dfee077",
   "metadata": {},
   "outputs": [],
   "source": [
    "import torch\n",
    "import torch.nn as nn\n",
    "import torchvision\n",
    "from torchvision import transforms\n",
    "from torchvision import datasets\n",
    "from torchvision.transforms import ToTensor\n"
   ]
  },
  {
   "cell_type": "markdown",
   "id": "bead5dd3-56b7-4a80-836f-78cc36db2b26",
   "metadata": {},
   "source": [
    "## cross entropy function will apply the sofmax function internally\n"
   ]
  },
  {
   "cell_type": "code",
   "execution_count": 17,
   "id": "15ea7a3d-c3ee-4791-81bc-5041facc6291",
   "metadata": {},
   "outputs": [],
   "source": [
    "device='mps' if torch.backends.mps.is_available() else 'cpu'"
   ]
  },
  {
   "cell_type": "code",
   "execution_count": 18,
   "id": "c9b70242-9e7b-4646-baa5-37d4e8ecdaf6",
   "metadata": {},
   "outputs": [],
   "source": [
    "train_data=datasets.FashionMNIST(root='data1',train=True,\n",
    "                                 download=True,\n",
    "                                 transform=ToTensor(),\n",
    "                                 target_transform=None)\n",
    "test_data=datasets.FashionMNIST(root='data1',train=False,\n",
    "                               download=True,\n",
    "                               transform=ToTensor(),\n",
    "                               target_transform=None)\n",
    "\n",
    "                               "
   ]
  },
  {
   "cell_type": "code",
   "execution_count": 19,
   "id": "2f4a9360-2284-4329-b387-706a5be51a47",
   "metadata": {},
   "outputs": [
    {
     "name": "stdout",
     "output_type": "stream",
     "text": [
      "torch.Size([60000, 28, 28])\n"
     ]
    }
   ],
   "source": [
    "train_data.targets\n",
    "print(train_data.data.shape)\n",
    "from torch.utils.data import Dataset"
   ]
  },
  {
   "cell_type": "code",
   "execution_count": 20,
   "id": "e282db1e-38ba-47b5-a496-5f57d9832ad9",
   "metadata": {},
   "outputs": [],
   "source": [
    "class FashionDataset(Dataset):\n",
    "    def __init__(self,x,y):\n",
    "        x=x.float()\n",
    "        x=x.view(-1,28*28)\n",
    "        self.x,self.y=x,y\n",
    "\n",
    "    def __getitem__(self,ix):\n",
    "        x,y=self.x[ix],self.y[ix]\n",
    "        return x.to(device),y.to(device)\n",
    "\n",
    "    def __len__(self):\n",
    "        return len(self.x)"
   ]
  },
  {
   "cell_type": "markdown",
   "id": "a493f3c4-2d2c-46a2-a50e-7fe6ae21e2a1",
   "metadata": {},
   "source": [
    "* the above code do the following:\n",
    "* convert he image to the flatten 28*28 numeric values\n",
    "* Number of datapoints __len__\n",
    "* __getitem__ will give the for what should be returned"
   ]
  },
  {
   "cell_type": "code",
   "execution_count": 21,
   "id": "b5afde0a-9eff-40d9-aa98-0bc6a5bf18fe",
   "metadata": {},
   "outputs": [],
   "source": [
    "images=train_data.data\n",
    "targets=train_data.targets\n",
    "from torch.utils.data import DataLoader\n",
    "def get_data():\n",
    "    train=FashionDataset(images,targets)\n",
    "    trn_dl=DataLoader(dataset=train,batch_size=16,shuffle=True)\n",
    "    return trn_dl"
   ]
  },
  {
   "cell_type": "code",
   "execution_count": 22,
   "id": "597697fe-58ca-482d-86b8-3176db3a8376",
   "metadata": {},
   "outputs": [],
   "source": [
    "def get_model():\n",
    "    model=nn.Sequential(\n",
    "                nn.Linear(in_features=28*28,out_features=1000),\n",
    "                nn.ReLU(),\n",
    "                nn.Linear(in_features=1000,out_features=10)\n",
    "    ).to(device)\n",
    "    loss_fn=nn.CrossEntropyLoss()\n",
    "    optimizer=torch.optim.SGD(params=model.parameters(),lr=1e-2)\n",
    "    return model,loss_fn,optimizer"
   ]
  },
  {
   "cell_type": "markdown",
   "id": "3ef5e5c9-cc93-43f7-8267-2ebc4ab963ca",
   "metadata": {},
   "source": [
    "## In this model we do not use the softmax for the crossEntropyLoss because it was included in the loss function inself"
   ]
  },
  {
   "cell_type": "code",
   "execution_count": 23,
   "id": "1addf52c-704b-477c-abd8-06f1f1576d9a",
   "metadata": {},
   "outputs": [],
   "source": [
    "def train_batch(x,y,model,opt,loss_fn):\n",
    "    model.train()\n",
    "    y_logit=model(x)\n",
    "    loss=loss_fn(y_logit,y)\n",
    "    optimizer.zero_grad()\n",
    "    loss.backward()\n",
    "    optimizer.step()\n",
    "\n",
    "    return loss.item()"
   ]
  },
  {
   "cell_type": "code",
   "execution_count": 24,
   "id": "24dadd1a-04bc-41c8-811b-33df80fa8c8f",
   "metadata": {},
   "outputs": [],
   "source": [
    "@torch.no_grad()\n",
    "\n",
    "def accuracy(x,y,model):\n",
    "    model.eval()\n",
    "\n",
    "    pred=model(x)\n",
    "    max_values,argmaxes=pred.max(-1)\n",
    "    is_correct=(argmaxes==y)\n",
    "    return is_correct.cpu().numpy().tolist()"
   ]
  },
  {
   "cell_type": "markdown",
   "id": "900ca574-ed35-4f11-acfc-f3a10084a68e",
   "metadata": {},
   "source": [
    "## now lots train the data"
   ]
  },
  {
   "cell_type": "code",
   "execution_count": 25,
   "id": "858764b0-63ea-4eb4-90d4-932dcf951617",
   "metadata": {},
   "outputs": [],
   "source": [
    "trn_dl=get_data()\n"
   ]
  },
  {
   "cell_type": "code",
   "execution_count": 26,
   "id": "52501c68-400a-46ff-9994-36a1e19c0348",
   "metadata": {},
   "outputs": [],
   "source": [
    "model,loss_fn,optimizer=get_model()"
   ]
  },
  {
   "cell_type": "code",
   "execution_count": 27,
   "id": "d5e16333-9e37-44d1-9775-e8c9f4ea4913",
   "metadata": {},
   "outputs": [],
   "source": [
    "losses,accuracies=[],[]"
   ]
  },
  {
   "cell_type": "code",
   "execution_count": 28,
   "id": "a9decbaf-d885-4ce9-8a4d-df9ea6afb4af",
   "metadata": {},
   "outputs": [],
   "source": [
    "from tqdm.auto import tqdm\n"
   ]
  },
  {
   "cell_type": "code",
   "execution_count": 29,
   "id": "1b457d8a-39af-4d2d-9e28-5bc01c10fa9a",
   "metadata": {},
   "outputs": [
    {
     "data": {
      "application/vnd.jupyter.widget-view+json": {
       "model_id": "7a34add9a84242d898fea67ae0ac21e8",
       "version_major": 2,
       "version_minor": 0
      },
      "text/plain": [
       "  0%|          | 0/5 [00:00<?, ?it/s]"
      ]
     },
     "metadata": {},
     "output_type": "display_data"
    },
    {
     "name": "stdout",
     "output_type": "stream",
     "text": [
      "50.69759750366211\n",
      "2.2946078777313232\n",
      "2.3242292404174805\n",
      "2.3029584884643555\n",
      "2.3020801544189453\n"
     ]
    }
   ],
   "source": [
    "for epoch in tqdm(range(5)):\n",
    "        epochloss=0\n",
    "        for ix,(x,y) in enumerate(trn_dl):\n",
    "            \n",
    "            batchloss=train_batch(x,y,model,optimizer,loss_fn)\n",
    "            epochloss+=batchloss\n",
    "            if(ix%10000==0):\n",
    "                print(batchloss)\n",
    "\n",
    "        losses.append(epochloss)"
   ]
  },
  {
   "cell_type": "code",
   "execution_count": 30,
   "id": "13d970dc-5d6d-4731-bebc-dc511fb6e60f",
   "metadata": {},
   "outputs": [
    {
     "data": {
      "text/plain": [
       "[<matplotlib.lines.Line2D at 0x149e3da00>]"
      ]
     },
     "execution_count": 30,
     "metadata": {},
     "output_type": "execute_result"
    },
    {
     "data": {
      "image/png": "[encoded data removed]",
      "text/plain": [
       "<Figure size 640x480 with 1 Axes>"
      ]
     },
     "metadata": {},
     "output_type": "display_data"
    }
   ],
   "source": [
    "import matplotlib.pyplot as plt\n",
    "plt.plot(losses)"
   ]
  },
  {
   "cell_type": "markdown",
   "id": "4ea66ffe-8587-40cd-a9ef-00159cfe4ca1",
   "metadata": {},
   "source": [
    "* we can also use the adams for the optimizer\n",
    "* others like AdamW,Adagrad,Adadata,LBFGS,RMSprop etc..\n",
    "* we have to choose the learning rate very carefully\n",
    "* we need high lr initially and low lr subsequently"
   ]
  },
  {
   "cell_type": "code",
   "execution_count": null,
   "id": "ea7b8efb-ecda-4fc1-86bd-a6298bff3792",
   "metadata": {},
   "outputs": [],
   "source": []
  },
  {
   "cell_type": "code",
   "execution_count": null,
   "id": "9b9df368-6941-4fdd-b368-85049d445426",
   "metadata": {},
   "outputs": [],
   "source": []
  },
  {
   "cell_type": "code",
   "execution_count": null,
   "id": "7e612ef9-b497-4543-bece-b5f9b2f56c80",
   "metadata": {},
   "outputs": [],
   "source": []
  },
  {
   "cell_type": "code",
   "execution_count": null,
   "id": "ecb20fb6-ebe2-4931-9346-c724cabc931a",
   "metadata": {},
   "outputs": [],
   "source": []
  },
  {
   "cell_type": "code",
   "execution_count": null,
   "id": "fd77d4e7-b070-4c78-9e6b-5c866bf75c3f",
   "metadata": {},
   "outputs": [],
   "source": []
  }
 ],
 "metadata": {
  "kernelspec": {
   "display_name": "Python 3 (ipykernel)",
   "language": "python",
   "name": "python3"
  },
  "language_info": {
   "codemirror_mode": {
    "name": "ipython",
    "version": 3
   },
   "file_extension": ".py",
   "mimetype": "text/x-python",
   "name": "python",
   "nbconvert_exporter": "python",
   "pygments_lexer": "ipython3",
   "version": "3.12.7"
  }
 },
 "nbformat": 4,
 "nbformat_minor": 5
}
